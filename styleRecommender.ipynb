{
  "nbformat": 4,
  "nbformat_minor": 0,
  "metadata": {
    "colab": {
      "provenance": [],
      "toc_visible": true,
      "authorship_tag": "ABX9TyPUYN+0iBD0pMsUmLeOPW35",
      "include_colab_link": true
    },
    "kernelspec": {
      "name": "python3",
      "display_name": "Python 3"
    },
    "language_info": {
      "name": "python"
    }
  },
  "cells": [
    {
      "cell_type": "markdown",
      "metadata": {
        "id": "view-in-github",
        "colab_type": "text"
      },
      "source": [
        "<a href=\"https://colab.research.google.com/github/zahraShahsavan/styleRecommender/blob/main/styleRecommender.ipynb\" target=\"_parent\"><img src=\"https://colab.research.google.com/assets/colab-badge.svg\" alt=\"Open In Colab\"/></a>"
      ]
    },
    {
      "cell_type": "markdown",
      "source": [
        "This is an application to generate an image for a costomized style based on some question to improve your personal style with the openAI."
      ],
      "metadata": {
        "id": "bjPAyW-VDSHI"
      }
    },
    {
      "cell_type": "markdown",
      "source": [
        "At first, the openai library should be installed and imported into the project."
      ],
      "metadata": {
        "id": "LefFdjytEyB9"
      }
    },
    {
      "cell_type": "code",
      "execution_count": null,
      "metadata": {
        "id": "xAFzd2OGM4MT"
      },
      "outputs": [],
      "source": [
        "!pip install openai==0.28"
      ]
    },
    {
      "cell_type": "code",
      "source": [
        "import openai"
      ],
      "metadata": {
        "id": "aeDvBUpfNFf4"
      },
      "execution_count": null,
      "outputs": []
    },
    {
      "cell_type": "markdown",
      "source": [
        "Add openAI api key to a variable."
      ],
      "metadata": {
        "id": "Y3wsN7KBFJuo"
      }
    },
    {
      "cell_type": "code",
      "source": [
        "openai.api_key = \"OPENAI_API_KEY\""
      ],
      "metadata": {
        "id": "Nbb8mCZMNhoK"
      },
      "execution_count": null,
      "outputs": []
    },
    {
      "cell_type": "markdown",
      "source": [
        "Connect to chat gpt api and send the prompt and give the response and return the url of image."
      ],
      "metadata": {
        "id": "PMzEA3mIFS3m"
      }
    },
    {
      "cell_type": "code",
      "source": [
        "def create_image_with_prompt(prompt):\n",
        "  response = openai.Image.create(prompt=prompt)\n",
        "  url = response['data'][0]['url']\n",
        "  return url\n"
      ],
      "metadata": {
        "id": "9R5Hn1GBK3PL"
      },
      "execution_count": null,
      "outputs": []
    },
    {
      "cell_type": "markdown",
      "source": [
        "The disply_image_based_on_url function, fetches the image from the given url and displays it."
      ],
      "metadata": {
        "id": "Nu05MtZ2Pu3d"
      }
    },
    {
      "cell_type": "code",
      "source": [
        "from PIL import Image\n",
        "import urllib.request\n",
        "\n",
        "def disply_image_based_on_url(image_url):\n",
        "  urllib.request.urlretrieve(image_url, \"image.png\")\n",
        "  # Open the downloaded image in PIL\n",
        "  feteched_img = Image.open(\"image.png\")\n",
        "  # Show the image\n",
        "  display(feteched_img)"
      ],
      "metadata": {
        "id": "rbpo3vz9KSK_"
      },
      "execution_count": null,
      "outputs": []
    },
    {
      "cell_type": "markdown",
      "source": [
        "Get the characteristics from user and create the prompt"
      ],
      "metadata": {
        "id": "-ElOB_gNV7GV"
      }
    },
    {
      "cell_type": "code",
      "source": [
        "\n",
        "gender = input('gender : ')\n",
        "age = input('age : ')\n",
        "body_shape = input('body shape (endomorph, mesomorph, ectomorph, etc.) : ')\n",
        "style_goal = input('style goal (casual, formal, trendy, etc.) : ')\n",
        "favorite_color = input('favorite_color : ')\n",
        "favorite_fabric = input('favorite_fabric : ')\n",
        "likes_terms_clothing_styles_brands_items = input('likes in terms of clothing styles, brands, and items : ')\n",
        "dislikes_terms_clothing_styles_brands_items = input('dislikes in terms of clothing styles, brands, and items : ')\n",
        "special_occasions_events = input('if it is a special occation or event let us to know : ')\n",
        "budget = input('At last, budget in dollar : ')\n",
        "\n",
        "# Format the prompt\n",
        "prompt = f'''generate an outfit style and show it in two poses for a person with these characteristics :\n",
        "            \\n\\nGender: { [gender if gender is not None else ''] }\n",
        "            \\nAge: {[age if age is not None else '']}\n",
        "            \\nBody shape: {[body_shape if body_shape is not None else '']}\n",
        "            \\nStyle goal: {[style_goal if style_goal is not None else '']}\n",
        "            \\nFavorite color: {[favorite_color if favorite_color is not None else '']}\n",
        "            \\nFavorite fabric: {[favorite_fabric if favorite_fabric is not None else '']}\n",
        "            \\nLikes: {[likes_terms_clothing_styles_brands_items if likes_terms_clothing_styles_brands_items is not None else '']}\n",
        "            \\nDislikes: {[dislikes_terms_clothing_styles_brands_items if dislikes_terms_clothing_styles_brands_items is not None else '']}\n",
        "            \\nSpecial occasion or event: {[special_occasions_events if special_occasions_events is not None else '']}\n",
        "            \\nBudget in dollar: {[budget if budget is not None else '']}\\n\\n'''\n",
        "\n",
        "url = create_image_with_prompt(prompt)\n",
        "disply_image_based_on_url(url)"
      ],
      "metadata": {
        "id": "dC0pD7ofINHj"
      },
      "execution_count": null,
      "outputs": []
    }
  ]
}
